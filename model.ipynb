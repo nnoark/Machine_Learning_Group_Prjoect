{
 "cells": [
  {
   "cell_type": "code",
   "execution_count": 1,
   "metadata": {},
   "outputs": [],
   "source": [
    "%matplotlib inline\n",
    "from matplotlib import pyplot as plt\n",
    "from sklearn.datasets import make_regression, make_swiss_roll\n",
    "import numpy as np\n",
    "import pandas as pd\n",
    "from sklearn.linear_model import LinearRegression, Ridge, Lasso, ElasticNet\n",
    "from sklearn.model_selection import train_test_split\n",
    "from sklearn.preprocessing import StandardScaler\n",
    "from sklearn.neighbors import KNeighborsRegressor\n",
    "from sklearn.ensemble import RandomForestRegressor, ExtraTreesRegressor, AdaBoostRegressor\n",
    "from sklearn.svm import SVR"
   ]
  },
  {
   "cell_type": "code",
   "execution_count": 2,
   "metadata": {},
   "outputs": [],
   "source": [
    "df = pd.read_csv(r'C:\\Users\\nnoar\\OneDrive\\Desktop\\homework\\Machine_Learning_Group_Prjoect\\Resources\\great_lakes.csv')"
   ]
  },
  {
   "cell_type": "code",
   "execution_count": 20,
   "metadata": {},
   "outputs": [],
   "source": [
    "df.head()\n",
    "df_dummies = pd.get_dummies(df,drop_first=True)"
   ]
  },
  {
   "cell_type": "code",
   "execution_count": 21,
   "metadata": {},
   "outputs": [
    {
     "data": {
      "text/plain": [
       "(52049, 151)"
      ]
     },
     "execution_count": 21,
     "metadata": {},
     "output_type": "execute_result"
    }
   ],
   "source": [
    "df_dummies.shape"
   ]
  },
  {
   "cell_type": "code",
   "execution_count": 35,
   "metadata": {},
   "outputs": [],
   "source": [
    "from sklearn.decomposition import PCA\n",
    "pca = PCA(n_components=4)\n",
    "df_pca = pca.fit_transform(df_dummies.drop('price',axis=1))"
   ]
  },
  {
   "cell_type": "code",
   "execution_count": 36,
   "metadata": {},
   "outputs": [
    {
     "data": {
      "text/html": [
       "<div>\n",
       "<style scoped>\n",
       "    .dataframe tbody tr th:only-of-type {\n",
       "        vertical-align: middle;\n",
       "    }\n",
       "\n",
       "    .dataframe tbody tr th {\n",
       "        vertical-align: top;\n",
       "    }\n",
       "\n",
       "    .dataframe thead th {\n",
       "        text-align: right;\n",
       "    }\n",
       "</style>\n",
       "<table border=\"1\" class=\"dataframe\">\n",
       "  <thead>\n",
       "    <tr style=\"text-align: right;\">\n",
       "      <th></th>\n",
       "      <th>1</th>\n",
       "      <th>2</th>\n",
       "      <th>3</th>\n",
       "      <th>4</th>\n",
       "    </tr>\n",
       "  </thead>\n",
       "  <tbody>\n",
       "    <tr>\n",
       "      <th>0</th>\n",
       "      <td>112.960292</td>\n",
       "      <td>-4.550290</td>\n",
       "      <td>1.956870</td>\n",
       "      <td>-0.064011</td>\n",
       "    </tr>\n",
       "    <tr>\n",
       "      <th>1</th>\n",
       "      <td>-87.041693</td>\n",
       "      <td>-4.364098</td>\n",
       "      <td>1.863844</td>\n",
       "      <td>0.146300</td>\n",
       "    </tr>\n",
       "    <tr>\n",
       "      <th>2</th>\n",
       "      <td>512.963469</td>\n",
       "      <td>-3.812718</td>\n",
       "      <td>0.552179</td>\n",
       "      <td>-0.386613</td>\n",
       "    </tr>\n",
       "    <tr>\n",
       "      <th>3</th>\n",
       "      <td>-325.041776</td>\n",
       "      <td>-3.015695</td>\n",
       "      <td>0.096658</td>\n",
       "      <td>-0.930431</td>\n",
       "    </tr>\n",
       "    <tr>\n",
       "      <th>4</th>\n",
       "      <td>-287.041127</td>\n",
       "      <td>-3.477927</td>\n",
       "      <td>0.192030</td>\n",
       "      <td>-0.029330</td>\n",
       "    </tr>\n",
       "  </tbody>\n",
       "</table>\n",
       "</div>"
      ],
      "text/plain": [
       "            1         2         3         4\n",
       "0  112.960292 -4.550290  1.956870 -0.064011\n",
       "1  -87.041693 -4.364098  1.863844  0.146300\n",
       "2  512.963469 -3.812718  0.552179 -0.386613\n",
       "3 -325.041776 -3.015695  0.096658 -0.930431\n",
       "4 -287.041127 -3.477927  0.192030 -0.029330"
      ]
     },
     "execution_count": 36,
     "metadata": {},
     "output_type": "execute_result"
    }
   ],
   "source": [
    "df_2 = pd.DataFrame(data=df_pca,columns=['1','2','3','4'])\n",
    "df_2.head()"
   ]
  },
  {
   "cell_type": "code",
   "execution_count": 37,
   "metadata": {},
   "outputs": [
    {
     "data": {
      "text/plain": [
       "0.9999628833115248"
      ]
     },
     "execution_count": 37,
     "metadata": {},
     "output_type": "execute_result"
    }
   ],
   "source": [
    "pca.explained_variance_ratio_.sum()"
   ]
  },
  {
   "cell_type": "code",
   "execution_count": 39,
   "metadata": {},
   "outputs": [],
   "source": [
    "X = df_2\n",
    "y = df_dummies['price']\n",
    "X_train, X_test, y_train, y_test = train_test_split(X, y,test_size=0.15, random_state=42)"
   ]
  },
  {
   "cell_type": "code",
   "execution_count": 42,
   "metadata": {},
   "outputs": [],
   "source": [
    "scaler = StandardScaler()\n",
    "X_train_scaled = scaler.fit_transform(X_train)\n",
    "X_test_scaled = scaler.fit_transform(X_test)"
   ]
  },
  {
   "cell_type": "code",
   "execution_count": 43,
   "metadata": {},
   "outputs": [],
   "source": [
    "def test_model(model, data):\n",
    "     X_train_scaled, X_test_scaled, y_train, y_test = data\n",
    "     reg = model.fit(X_train_scaled, y_train)\n",
    "     print(f'Model: {type(reg).__name__}')\n",
    "     print(f'Train score: {reg.score(X_train_scaled, y_train)}')\n",
    "     print(f'Test Score: {reg.score(X_test_scaled, y_test)}\\n')\n",
    "     plt.show() \n",
    "data = X_train_scaled,X_test_scaled,y_train,y_test "
   ]
  },
  {
   "cell_type": "code",
   "execution_count": 55,
   "metadata": {},
   "outputs": [
    {
     "name": "stdout",
     "output_type": "stream",
     "text": [
      "Model: LinearRegression\n",
      "Train score: 0.026749768636394222\n",
      "Test Score: 0.05147161123906352\n",
      "\n",
      "Model: KNeighborsRegressor\n",
      "Train score: 0.3034196364613915\n",
      "Test Score: 0.2190736951025516\n",
      "\n",
      "Model: RandomForestRegressor\n",
      "Train score: 0.751929569118297\n",
      "Test Score: -0.022908127081057827\n",
      "\n",
      "Model: ExtraTreesRegressor\n",
      "Train score: 0.8599010061431389\n",
      "Test Score: 0.272477044952776\n",
      "\n",
      "Model: AdaBoostRegressor\n",
      "Train score: 0.3704736308744627\n",
      "Test Score: 0.008223924623107282\n",
      "\n"
     ]
    }
   ],
   "source": [
    "test_model(LinearRegression(),data)\n",
    "test_model(KNeighborsRegressor(),data)\n",
    "test_model(RandomForestRegressor(n_estimators=90), data)\n",
    "test_model(ExtraTreesRegressor(), data)\n",
    "test_model(AdaBoostRegressor(), data)\n"
   ]
  },
  {
   "cell_type": "code",
   "execution_count": 60,
   "metadata": {},
   "outputs": [
    {
     "name": "stdout",
     "output_type": "stream",
     "text": [
      "Model: ExtraTreesRegressor\n",
      "Train score: 0.08859842819893982\n",
      "Test Score: 0.13915427939804537\n",
      "\n"
     ]
    }
   ],
   "source": [
    "test_model(ExtraTreesRegressor(n_estimators=100, n_jobs=4, min_samples_split=25,\n",
    "                            min_samples_leaf=35),data)"
   ]
  },
  {
   "cell_type": "code",
   "execution_count": 45,
   "metadata": {},
   "outputs": [
    {
     "data": {
      "text/plain": [
       "KNeighborsRegressor()"
      ]
     },
     "execution_count": 45,
     "metadata": {},
     "output_type": "execute_result"
    }
   ],
   "source": [
    "regressor = KNeighborsRegressor()\n",
    "regressor.fit(X_train_scaled,y_train)"
   ]
  },
  {
   "cell_type": "code",
   "execution_count": 46,
   "metadata": {},
   "outputs": [],
   "source": [
    "y_pred = regressor.predict(X_test_scaled)\n",
    "pred_df = pd.DataFrame({'Actual':y_test,'Predicted':y_pred})"
   ]
  },
  {
   "cell_type": "code",
   "execution_count": 47,
   "metadata": {},
   "outputs": [
    {
     "data": {
      "text/html": [
       "<div>\n",
       "<style scoped>\n",
       "    .dataframe tbody tr th:only-of-type {\n",
       "        vertical-align: middle;\n",
       "    }\n",
       "\n",
       "    .dataframe tbody tr th {\n",
       "        vertical-align: top;\n",
       "    }\n",
       "\n",
       "    .dataframe thead th {\n",
       "        text-align: right;\n",
       "    }\n",
       "</style>\n",
       "<table border=\"1\" class=\"dataframe\">\n",
       "  <thead>\n",
       "    <tr style=\"text-align: right;\">\n",
       "      <th></th>\n",
       "      <th>Actual</th>\n",
       "      <th>Predicted</th>\n",
       "    </tr>\n",
       "  </thead>\n",
       "  <tbody>\n",
       "    <tr>\n",
       "      <th>22714</th>\n",
       "      <td>1400</td>\n",
       "      <td>2024.0</td>\n",
       "    </tr>\n",
       "    <tr>\n",
       "      <th>508</th>\n",
       "      <td>744</td>\n",
       "      <td>746.0</td>\n",
       "    </tr>\n",
       "    <tr>\n",
       "      <th>21289</th>\n",
       "      <td>2300</td>\n",
       "      <td>1827.0</td>\n",
       "    </tr>\n",
       "    <tr>\n",
       "      <th>8546</th>\n",
       "      <td>770</td>\n",
       "      <td>751.0</td>\n",
       "    </tr>\n",
       "    <tr>\n",
       "      <th>42030</th>\n",
       "      <td>975</td>\n",
       "      <td>1171.0</td>\n",
       "    </tr>\n",
       "    <tr>\n",
       "      <th>...</th>\n",
       "      <td>...</td>\n",
       "      <td>...</td>\n",
       "    </tr>\n",
       "    <tr>\n",
       "      <th>2510</th>\n",
       "      <td>1965</td>\n",
       "      <td>1539.2</td>\n",
       "    </tr>\n",
       "    <tr>\n",
       "      <th>839</th>\n",
       "      <td>1190</td>\n",
       "      <td>2719.0</td>\n",
       "    </tr>\n",
       "    <tr>\n",
       "      <th>46651</th>\n",
       "      <td>1020</td>\n",
       "      <td>984.0</td>\n",
       "    </tr>\n",
       "    <tr>\n",
       "      <th>13352</th>\n",
       "      <td>1390</td>\n",
       "      <td>1410.0</td>\n",
       "    </tr>\n",
       "    <tr>\n",
       "      <th>19354</th>\n",
       "      <td>885</td>\n",
       "      <td>886.8</td>\n",
       "    </tr>\n",
       "  </tbody>\n",
       "</table>\n",
       "<p>7808 rows × 2 columns</p>\n",
       "</div>"
      ],
      "text/plain": [
       "       Actual  Predicted\n",
       "22714    1400     2024.0\n",
       "508       744      746.0\n",
       "21289    2300     1827.0\n",
       "8546      770      751.0\n",
       "42030     975     1171.0\n",
       "...       ...        ...\n",
       "2510     1965     1539.2\n",
       "839      1190     2719.0\n",
       "46651    1020      984.0\n",
       "13352    1390     1410.0\n",
       "19354     885      886.8\n",
       "\n",
       "[7808 rows x 2 columns]"
      ]
     },
     "execution_count": 47,
     "metadata": {},
     "output_type": "execute_result"
    }
   ],
   "source": [
    "pred_df"
   ]
  },
  {
   "cell_type": "code",
   "execution_count": 48,
   "metadata": {},
   "outputs": [
    {
     "name": "stdout",
     "output_type": "stream",
     "text": [
      "k: 1, Train/Test Score: 0.772/-0.580\n",
      "k: 3, Train/Test Score: 0.416/-0.171\n",
      "k: 5, Train/Test Score: 0.303/0.219\n",
      "k: 7, Train/Test Score: 0.239/0.098\n",
      "k: 9, Train/Test Score: 0.212/0.180\n",
      "k: 11, Train/Test Score: 0.189/0.135\n",
      "k: 13, Train/Test Score: 0.172/0.154\n",
      "k: 15, Train/Test Score: 0.158/0.154\n",
      "k: 17, Train/Test Score: 0.148/0.160\n",
      "k: 19, Train/Test Score: 0.137/0.153\n"
     ]
    },
    {
     "data": {
      "image/png": "[encoded data removed]",
      "text/plain": [
       "<Figure size 432x288 with 1 Axes>"
      ]
     },
     "metadata": {
      "needs_background": "light"
     },
     "output_type": "display_data"
    }
   ],
   "source": [
    "train_scores = []\n",
    "test_scores = []\n",
    "for k in range(1, 20, 2):\n",
    "    knn = KNeighborsRegressor(n_neighbors=k)\n",
    "    knn.fit(X_train_scaled, y_train)\n",
    "    train_score = knn.score(X_train_scaled, y_train)\n",
    "    test_score = knn.score(X_test_scaled, y_test)\n",
    "    train_scores.append(train_score)\n",
    "    test_scores.append(test_score)\n",
    "    print(f\"k: {k}, Train/Test Score: {train_score:.3f}/{test_score:.3f}\")\n",
    "    \n",
    "    \n",
    "plt.plot(range(1, 20, 2), train_scores, marker='o')\n",
    "plt.plot(range(1, 20, 2), test_scores, marker=\"x\")\n",
    "plt.xlabel(\"k neighbors\")\n",
    "plt.ylabel(\"Testing accuracy score\")\n",
    "plt.show()"
   ]
  },
  {
   "cell_type": "code",
   "execution_count": 13,
   "metadata": {},
   "outputs": [
    {
     "data": {
      "text/plain": [
       "KNeighborsRegressor(n_neighbors=11)"
      ]
     },
     "execution_count": 13,
     "metadata": {},
     "output_type": "execute_result"
    }
   ],
   "source": [
    "regressor = KNeighborsRegressor(n_neighbors=11)\n",
    "regressor.fit(X_train_scaled,y_train)"
   ]
  },
  {
   "cell_type": "code",
   "execution_count": 16,
   "metadata": {},
   "outputs": [],
   "source": [
    "y_true = y_test\n",
    "y_pred = regressor.predict(X_test_scaled)"
   ]
  },
  {
   "cell_type": "code",
   "execution_count": 18,
   "metadata": {},
   "outputs": [],
   "source": [
    "y_pred = regressor.predict(X_test_scaled)\n",
    "pred_df = pd.DataFrame({'Actual':y_test,'Predicted':y_pred})"
   ]
  },
  {
   "cell_type": "code",
   "execution_count": 20,
   "metadata": {},
   "outputs": [
    {
     "name": "stdout",
     "output_type": "stream",
     "text": [
      "k=11 Test Acc: 0.898\n"
     ]
    }
   ],
   "source": [
    "print('k=11 Test Acc: %.3f' % regressor.score(X_test_scaled, y_test))"
   ]
  },
  {
   "cell_type": "code",
   "execution_count": 19,
   "metadata": {},
   "outputs": [
    {
     "data": {
      "text/html": [
       "<div>\n",
       "<style scoped>\n",
       "    .dataframe tbody tr th:only-of-type {\n",
       "        vertical-align: middle;\n",
       "    }\n",
       "\n",
       "    .dataframe tbody tr th {\n",
       "        vertical-align: top;\n",
       "    }\n",
       "\n",
       "    .dataframe thead th {\n",
       "        text-align: right;\n",
       "    }\n",
       "</style>\n",
       "<table border=\"1\" class=\"dataframe\">\n",
       "  <thead>\n",
       "    <tr style=\"text-align: right;\">\n",
       "      <th></th>\n",
       "      <th>Actual</th>\n",
       "      <th>Predicted</th>\n",
       "    </tr>\n",
       "  </thead>\n",
       "  <tbody>\n",
       "    <tr>\n",
       "      <th>22468</th>\n",
       "      <td>1993</td>\n",
       "      <td>2323.090909</td>\n",
       "    </tr>\n",
       "    <tr>\n",
       "      <th>2942</th>\n",
       "      <td>595</td>\n",
       "      <td>666.272727</td>\n",
       "    </tr>\n",
       "    <tr>\n",
       "      <th>33818</th>\n",
       "      <td>810</td>\n",
       "      <td>703.181818</td>\n",
       "    </tr>\n",
       "    <tr>\n",
       "      <th>1907</th>\n",
       "      <td>1150</td>\n",
       "      <td>1218.181818</td>\n",
       "    </tr>\n",
       "    <tr>\n",
       "      <th>35285</th>\n",
       "      <td>745</td>\n",
       "      <td>745.000000</td>\n",
       "    </tr>\n",
       "    <tr>\n",
       "      <th>...</th>\n",
       "      <td>...</td>\n",
       "      <td>...</td>\n",
       "    </tr>\n",
       "    <tr>\n",
       "      <th>39262</th>\n",
       "      <td>810</td>\n",
       "      <td>752.818182</td>\n",
       "    </tr>\n",
       "    <tr>\n",
       "      <th>9396</th>\n",
       "      <td>429</td>\n",
       "      <td>453.727273</td>\n",
       "    </tr>\n",
       "    <tr>\n",
       "      <th>31848</th>\n",
       "      <td>880</td>\n",
       "      <td>1044.090909</td>\n",
       "    </tr>\n",
       "    <tr>\n",
       "      <th>18759</th>\n",
       "      <td>749</td>\n",
       "      <td>976.272727</td>\n",
       "    </tr>\n",
       "    <tr>\n",
       "      <th>18488</th>\n",
       "      <td>575</td>\n",
       "      <td>777.636364</td>\n",
       "    </tr>\n",
       "  </tbody>\n",
       "</table>\n",
       "<p>13013 rows × 2 columns</p>\n",
       "</div>"
      ],
      "text/plain": [
       "       Actual    Predicted\n",
       "22468    1993  2323.090909\n",
       "2942      595   666.272727\n",
       "33818     810   703.181818\n",
       "1907     1150  1218.181818\n",
       "35285     745   745.000000\n",
       "...       ...          ...\n",
       "39262     810   752.818182\n",
       "9396      429   453.727273\n",
       "31848     880  1044.090909\n",
       "18759     749   976.272727\n",
       "18488     575   777.636364\n",
       "\n",
       "[13013 rows x 2 columns]"
      ]
     },
     "execution_count": 19,
     "metadata": {},
     "output_type": "execute_result"
    }
   ],
   "source": [
    "pred_df"
   ]
  },
  {
   "cell_type": "code",
   "execution_count": 49,
   "metadata": {},
   "outputs": [],
   "source": [
    "X = df_2.values\n",
    "y = df_dummies['price'].values\n",
    "X_train, X_test, y_train, y_test = train_test_split(X, y,test_size=0.15, random_state=42)"
   ]
  },
  {
   "cell_type": "code",
   "execution_count": 51,
   "metadata": {},
   "outputs": [],
   "source": [
    "import tensorflow as tf"
   ]
  },
  {
   "cell_type": "code",
   "execution_count": 53,
   "metadata": {},
   "outputs": [
    {
     "name": "stdout",
     "output_type": "stream",
     "text": [
      "Epoch 1/50\n",
      "1383/1383 [==============================] - 3s 2ms/step - loss: -942504.9375 - accuracy: 6.5550e-04\n",
      "Epoch 2/50\n",
      "1383/1383 [==============================] - 2s 1ms/step - loss: -11405810.0000 - accuracy: 6.5550e-04\n",
      "Epoch 3/50\n",
      "1383/1383 [==============================] - 2s 2ms/step - loss: -41320820.0000 - accuracy: 6.5550e-04\n",
      "Epoch 4/50\n",
      "1383/1383 [==============================] - 2s 1ms/step - loss: -95184256.0000 - accuracy: 6.5550e-04\n",
      "Epoch 5/50\n",
      "1383/1383 [==============================] - 2s 1ms/step - loss: -175865200.0000 - accuracy: 6.5550e-04\n",
      "Epoch 6/50\n",
      "1383/1383 [==============================] - 2s 1ms/step - loss: -287486912.0000 - accuracy: 6.5550e-04\n",
      "Epoch 7/50\n",
      "1383/1383 [==============================] - 2s 1ms/step - loss: -434836832.0000 - accuracy: 6.5550e-04\n",
      "Epoch 8/50\n",
      "1383/1383 [==============================] - 2s 1ms/step - loss: -620082048.0000 - accuracy: 6.5550e-04\n",
      "Epoch 9/50\n",
      "1383/1383 [==============================] - 1s 926us/step - loss: -844059200.0000 - accuracy: 6.5550e-04\n",
      "Epoch 10/50\n",
      "1383/1383 [==============================] - 1s 701us/step - loss: -1115057536.0000 - accuracy: 6.5550e-04\n",
      "Epoch 11/50\n",
      "1383/1383 [==============================] - 1s 672us/step - loss: -1435071872.0000 - accuracy: 6.5550e-04\n",
      "Epoch 12/50\n",
      "1383/1383 [==============================] - 1s 1ms/step - loss: -1807404032.0000 - accuracy: 6.5550e-04\n",
      "Epoch 13/50\n",
      "1383/1383 [==============================] - 1s 935us/step - loss: -2233516544.0000 - accuracy: 6.5550e-04\n",
      "Epoch 14/50\n",
      "1383/1383 [==============================] - 1s 789us/step - loss: -2722144000.0000 - accuracy: 6.5550e-04\n",
      "Epoch 15/50\n",
      "1383/1383 [==============================] - 2s 1ms/step - loss: -3274454016.0000 - accuracy: 6.5550e-04\n",
      "Epoch 16/50\n",
      "1383/1383 [==============================] - 2s 1ms/step - loss: -3893216000.0000 - accuracy: 6.5550e-04\n",
      "Epoch 17/50\n",
      "1383/1383 [==============================] - 2s 1ms/step - loss: -4595428352.0000 - accuracy: 6.5550e-04\n",
      "Epoch 18/50\n",
      "1383/1383 [==============================] - 2s 1ms/step - loss: -5373771264.0000 - accuracy: 6.5550e-04\n",
      "Epoch 19/50\n",
      "1383/1383 [==============================] - 1s 863us/step - loss: -6242929664.0000 - accuracy: 6.5550e-04\n",
      "Epoch 20/50\n",
      "1383/1383 [==============================] - 1s 763us/step - loss: -7202560000.0000 - accuracy: 6.5550e-04\n",
      "Epoch 21/50\n",
      "1383/1383 [==============================] - 1s 710us/step - loss: -8249071104.0000 - accuracy: 6.5550e-04\n",
      "Epoch 22/50\n",
      "1383/1383 [==============================] - 1s 692us/step - loss: -9395343360.0000 - accuracy: 6.5550e-04\n",
      "Epoch 23/50\n",
      "1383/1383 [==============================] - 1s 709us/step - loss: -10643301376.0000 - accuracy: 6.5550e-04\n",
      "Epoch 24/50\n",
      "1383/1383 [==============================] - 1s 717us/step - loss: -11989857280.0000 - accuracy: 6.5550e-04\n",
      "Epoch 25/50\n",
      "1383/1383 [==============================] - 1s 751us/step - loss: -13457351680.0000 - accuracy: 6.5550e-04\n",
      "Epoch 26/50\n",
      "1383/1383 [==============================] - 1s 692us/step - loss: -15039161344.0000 - accuracy: 6.5550e-04\n",
      "Epoch 27/50\n",
      "1383/1383 [==============================] - 1s 702us/step - loss: -16733184000.0000 - accuracy: 6.5550e-04\n",
      "Epoch 28/50\n",
      "1383/1383 [==============================] - 1s 683us/step - loss: -18544699392.0000 - accuracy: 6.5550e-04\n",
      "Epoch 29/50\n",
      "1383/1383 [==============================] - 1s 702us/step - loss: -20480817152.0000 - accuracy: 6.5550e-04\n",
      "Epoch 30/50\n",
      "1383/1383 [==============================] - 1s 697us/step - loss: -22555287552.0000 - accuracy: 6.5550e-04\n",
      "Epoch 31/50\n",
      "1383/1383 [==============================] - 1s 694us/step - loss: -24758820864.0000 - accuracy: 6.5550e-04\n",
      "Epoch 32/50\n",
      "1383/1383 [==============================] - 1s 691us/step - loss: -27113134080.0000 - accuracy: 6.5550e-04\n",
      "Epoch 33/50\n",
      "1383/1383 [==============================] - 1s 707us/step - loss: -29584232448.0000 - accuracy: 6.5550e-04\n",
      "Epoch 34/50\n",
      "1383/1383 [==============================] - 1s 709us/step - loss: -32229316608.0000 - accuracy: 6.5550e-04\n",
      "Epoch 35/50\n",
      "1383/1383 [==============================] - 1s 693us/step - loss: -35016929280.0000 - accuracy: 6.5550e-04\n",
      "Epoch 36/50\n",
      "1383/1383 [==============================] - 1s 677us/step - loss: -37956067328.0000 - accuracy: 6.5550e-04\n",
      "Epoch 37/50\n",
      "1383/1383 [==============================] - 1s 699us/step - loss: -41060626432.0000 - accuracy: 6.5550e-04\n",
      "Epoch 38/50\n",
      "1383/1383 [==============================] - 1s 693us/step - loss: -44320845824.0000 - accuracy: 6.5550e-04\n",
      "Epoch 39/50\n",
      "1383/1383 [==============================] - 1s 689us/step - loss: -47729352704.0000 - accuracy: 6.5550e-04\n",
      "Epoch 40/50\n",
      "1383/1383 [==============================] - 1s 719us/step - loss: -51318710272.0000 - accuracy: 6.5550e-04\n",
      "Epoch 41/50\n",
      "1383/1383 [==============================] - 1s 693us/step - loss: -55097626624.0000 - accuracy: 6.5550e-04\n",
      "Epoch 42/50\n",
      "1383/1383 [==============================] - 1s 717us/step - loss: -59041017856.0000 - accuracy: 6.5550e-04\n",
      "Epoch 43/50\n",
      "1383/1383 [==============================] - 1s 709us/step - loss: -63151460352.0000 - accuracy: 6.5550e-04\n",
      "Epoch 44/50\n",
      "1383/1383 [==============================] - 1s 686us/step - loss: -67468967936.0000 - accuracy: 6.5550e-04\n",
      "Epoch 45/50\n",
      "1383/1383 [==============================] - 1s 723us/step - loss: -72014020608.0000 - accuracy: 6.5550e-04\n",
      "Epoch 46/50\n",
      "1383/1383 [==============================] - 1s 693us/step - loss: -76734455808.0000 - accuracy: 6.5550e-04\n",
      "Epoch 47/50\n",
      "1383/1383 [==============================] - 1s 714us/step - loss: -81640071168.0000 - accuracy: 6.5550e-04\n",
      "Epoch 48/50\n",
      "1383/1383 [==============================] - 1s 699us/step - loss: -86721724416.0000 - accuracy: 6.5550e-04\n",
      "Epoch 49/50\n",
      "1383/1383 [==============================] - 1s 679us/step - loss: -92022669312.0000 - accuracy: 6.5550e-04\n",
      "Epoch 50/50\n",
      "1383/1383 [==============================] - 1s 710us/step - loss: -97560666112.0000 - accuracy: 6.5550e-04\n",
      "244/244 - 0s - loss: -9.9253e+10 - accuracy: 1.2807e-04 - 236ms/epoch - 966us/step\n",
      "Loss: -99252813824.0, Accuracy: 0.00012807376333512366\n"
     ]
    }
   ],
   "source": [
    "# Define the deep learning model \n",
    "nn_model = tf.keras.models.Sequential()\n",
    "nn_model.add(tf.keras.layers.Dense(units=16, activation=\"relu\", input_dim=4))\n",
    "nn_model.add(tf.keras.layers.Dense(units=16, activation=\"relu\"))\n",
    "nn_model.add(tf.keras.layers.Dense(units=1, activation=\"sigmoid\"))\n",
    "\n",
    "# Compile the Sequential model together and customize metrics\n",
    "nn_model.compile(loss=\"binary_crossentropy\", optimizer=\"adam\", metrics=[\"accuracy\"])\n",
    "\n",
    "# Train the model\n",
    "fit_model = nn_model.fit(X_train_scaled, y_train, epochs=50)\n",
    "\n",
    "# Evaluate the model using the test data\n",
    "model_loss, model_accuracy = nn_model.evaluate(X_test_scaled,y_test,verbose=2)\n",
    "print(f\"Loss: {model_loss}, Accuracy: {model_accuracy}\")"
   ]
  },
  {
   "cell_type": "code",
   "execution_count": 19,
   "metadata": {},
   "outputs": [],
   "source": [
    "# # X = df_dummies.drop('price',axis=1)\n",
    "# y = df_dummies['price']\n",
    "# X_train, X_test, y_train, y_test = train_test_split(X, y, random_state=1)\n",
    "# scaler = StandardScaler()\n",
    "# X_train_scaled = scaler.fit_transform(X_train)\n",
    "# X_test_scaled = scaler.fit_transform(X_test)\n",
    "# def test_model(model, data):\n",
    "#     X_train_scaled, X_test_scaled, y_train, y_test = data\n",
    "#     reg = model.fit(X_train_scaled, y_train)\n",
    "#     print(f'Model: {type(reg).__name__}')\n",
    "#     print(f'Train score: {reg.score(X_train_scaled, y_train)}')\n",
    "#     print(f'Test Score: {reg.score(X_test_scaled, y_test)}\\n')\n",
    "#     plt.show() \n",
    "# data = X_train_scaled,X_test_scaled,y_train,y_test"
   ]
  },
  {
   "cell_type": "code",
   "execution_count": 20,
   "metadata": {},
   "outputs": [],
   "source": [
    "#test_model(LinearRegression(),data)"
   ]
  },
  {
   "cell_type": "code",
   "execution_count": 21,
   "metadata": {},
   "outputs": [],
   "source": [
    "#test_model(KNeighborsRegressor(),data)"
   ]
  },
  {
   "cell_type": "code",
   "execution_count": 22,
   "metadata": {},
   "outputs": [],
   "source": [
    "#test_model(RandomForestRegressor(),data)"
   ]
  }
 ],
 "metadata": {
  "interpreter": {
   "hash": "2c99e9fdba74eaac10fbab343373af76b25a75552a47fd4ce928ab922f07f2e4"
  },
  "kernelspec": {
   "display_name": "Python 3.8.8 64-bit ('base': conda)",
   "language": "python",
   "name": "python3"
  },
  "language_info": {
   "codemirror_mode": {
    "name": "ipython",
    "version": 3
   },
   "file_extension": ".py",
   "mimetype": "text/x-python",
   "name": "python",
   "nbconvert_exporter": "python",
   "pygments_lexer": "ipython3",
   "version": "3.8.8"
  },
  "orig_nbformat": 4
 },
 "nbformat": 4,
 "nbformat_minor": 2
}
